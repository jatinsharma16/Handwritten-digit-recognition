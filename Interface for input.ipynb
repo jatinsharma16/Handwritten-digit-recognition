{
 "cells": [
  {
   "cell_type": "markdown",
   "id": "b6d8cdbf",
   "metadata": {},
   "source": [
    "#### Importing the libraries "
   ]
  },
  {
   "cell_type": "code",
   "execution_count": 41,
   "id": "4139d728",
   "metadata": {},
   "outputs": [],
   "source": [
    "from tkinter import *\n",
    "from PIL import Image, ImageDraw\n",
    "import PIL"
   ]
  },
  {
   "cell_type": "code",
   "execution_count": 85,
   "id": "e95e5cd3",
   "metadata": {},
   "outputs": [],
   "source": [
    "import cv2 as cv\n",
    "import numpy as np\n",
    "import tensorflow as tf"
   ]
  },
  {
   "cell_type": "markdown",
   "id": "dde4f832",
   "metadata": {},
   "source": [
    "#### Importing the model for the prediction"
   ]
  },
  {
   "cell_type": "code",
   "execution_count": 86,
   "id": "dba09b9a",
   "metadata": {},
   "outputs": [],
   "source": [
    "model = tf.keras.models.load_model(\"handwritten_digit_recognition.model\")"
   ]
  },
  {
   "cell_type": "code",
   "execution_count": 42,
   "id": "b7cb15d9",
   "metadata": {},
   "outputs": [],
   "source": [
    "current_X = 0\n",
    "current_y = 0\n",
    "black = (0, 0, 0)\n",
    "white = (255, 255, 255)"
   ]
  },
  {
   "cell_type": "code",
   "execution_count": 56,
   "id": "e65db2a1",
   "metadata": {},
   "outputs": [],
   "source": [
    "#locating the current x and y values of the cursor on the canvas\n",
    "def locate_xy(event):\n",
    "    global current_x, current_y\n",
    "    current_x, current_y = event.x, event.y"
   ]
  },
  {
   "cell_type": "code",
   "execution_count": 57,
   "id": "233f3a5c",
   "metadata": {},
   "outputs": [],
   "source": [
    "#Changing the values with respect to the movement of the mouse\n",
    "def addLine(event):\n",
    "    global current_x, current_y\n",
    "    \n",
    "    #drawing the line over the canvas\n",
    "    canvas.create_line(current_x, current_y, event.x, event.y, fill='white', width=10)\n",
    "    \n",
    "    #drawing the line over the image so as to save the line \n",
    "    draw.line([current_x, current_y, event.x, event.y], white, width=10)\n",
    "    current_x, current_y = event.x, event.y"
   ]
  },
  {
   "cell_type": "code",
   "execution_count": 110,
   "id": "9e450ac2",
   "metadata": {},
   "outputs": [],
   "source": [
    "#Predicting the result using the model\n",
    "def prediction():\n",
    "    img = cv.imread(\"sample/temp.jpg\")[:,:,0]\n",
    "    img = (np.array([img]))\n",
    "    predict = model.predict(img)\n",
    "    \n",
    "    #making a label to show the output\n",
    "    my_label1 = Label(root, text=f'The predicted digit is: {np.argmax(predict)}')\n",
    "    my_label1.grid(row=3, column=0)"
   ]
  },
  {
   "cell_type": "code",
   "execution_count": 94,
   "id": "3828449e",
   "metadata": {},
   "outputs": [],
   "source": [
    "#Saving the image drawn on the canvas so as to use it as an input for the prediction\n",
    "def save_img():\n",
    "    filename = \"sample/temp.jpg\"\n",
    "    size=(28,28)\n",
    "    final = image1.resize(size, resample=1)\n",
    "    final.save(filename)\n",
    "    prediction()"
   ]
  },
  {
   "cell_type": "markdown",
   "id": "86d8b9c3",
   "metadata": {},
   "source": [
    "#### Creating the window and the canvas "
   ]
  },
  {
   "cell_type": "code",
   "execution_count": 123,
   "id": "2a4c24b8",
   "metadata": {},
   "outputs": [
    {
     "data": {
      "text/plain": [
       "'924026362688addLine'"
      ]
     },
     "execution_count": 123,
     "metadata": {},
     "output_type": "execute_result"
    }
   ],
   "source": [
    "#making the window\n",
    "root = Tk()\n",
    "root.title(\"DIGIT RECOGNITION INPUT BOARD\")\n",
    "root.rowconfigure(0, weight=1)\n",
    "root.columnconfigure(0,weight=1)\n",
    "\n",
    "#creating the canvas\n",
    "canvas = Canvas(root,height=300, width=300 ,bg=\"black\")\n",
    "canvas.grid(row=0, column=0, sticky='nsew')\n",
    "\n",
    "#adding button which would save the image and predict the output\n",
    "my_button_1 = Button(root, text='Save image and recognize', command= save_img) \n",
    "my_button_1.grid(row=1, column=0)\n",
    "\n",
    "image1 = Image.new(\"RGB\", (300, 300), black)\n",
    "draw = ImageDraw.Draw(image1)\n",
    "\n",
    "canvas.bind('<Button-1>', locate_xy)\n",
    "canvas.bind('<B1-Motion>', addLine)"
   ]
  },
  {
   "cell_type": "code",
   "execution_count": 124,
   "id": "53513b65",
   "metadata": {},
   "outputs": [],
   "source": [
    "root.mainloop()"
   ]
  }
 ],
 "metadata": {
  "kernelspec": {
   "display_name": "Python 3",
   "language": "python",
   "name": "python3"
  },
  "language_info": {
   "codemirror_mode": {
    "name": "ipython",
    "version": 3
   },
   "file_extension": ".py",
   "mimetype": "text/x-python",
   "name": "python",
   "nbconvert_exporter": "python",
   "pygments_lexer": "ipython3",
   "version": "3.8.8"
  }
 },
 "nbformat": 4,
 "nbformat_minor": 5
}
